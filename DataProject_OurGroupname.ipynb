{
 "cells": [
  {
   "cell_type": "markdown",
   "metadata": {},
   "source": [
    "##Data presentation \n",
    "This project is analyzing data of the five largest most popular tech stocks FAANG which are Facebook, Apple, Amazon, Netflix and Google and comparing it to S&P-500. We illustrate the historical relationship between volatility and average returns and assess whether active stock-picking would have been beneficial over the last five years."
   ]
  },
  {
   "cell_type": "code",
   "execution_count": 1,
   "metadata": {},
   "outputs": [
    {
     "data": {
      "text/html": [
       "<div>\n",
       "<style scoped>\n",
       "    .dataframe tbody tr th:only-of-type {\n",
       "        vertical-align: middle;\n",
       "    }\n",
       "\n",
       "    .dataframe tbody tr th {\n",
       "        vertical-align: top;\n",
       "    }\n",
       "\n",
       "    .dataframe thead th {\n",
       "        text-align: right;\n",
       "    }\n",
       "</style>\n",
       "<table border=\"1\" class=\"dataframe\">\n",
       "  <thead>\n",
       "    <tr style=\"text-align: right;\">\n",
       "      <th></th>\n",
       "      <th>open</th>\n",
       "      <th>high</th>\n",
       "      <th>low</th>\n",
       "      <th>close</th>\n",
       "      <th>volume</th>\n",
       "    </tr>\n",
       "    <tr>\n",
       "      <th>firm</th>\n",
       "      <th></th>\n",
       "      <th></th>\n",
       "      <th></th>\n",
       "      <th></th>\n",
       "      <th></th>\n",
       "    </tr>\n",
       "  </thead>\n",
       "  <tbody>\n",
       "    <tr>\n",
       "      <th>AAPL</th>\n",
       "      <td>130.123419</td>\n",
       "      <td>131.244452</td>\n",
       "      <td>128.976067</td>\n",
       "      <td>130.133062</td>\n",
       "      <td>4.016340e+07</td>\n",
       "    </tr>\n",
       "    <tr>\n",
       "      <th>AMZN</th>\n",
       "      <td>861.936559</td>\n",
       "      <td>870.222509</td>\n",
       "      <td>851.956490</td>\n",
       "      <td>861.398497</td>\n",
       "      <td>4.207946e+06</td>\n",
       "    </tr>\n",
       "    <tr>\n",
       "      <th>FB</th>\n",
       "      <td>125.142968</td>\n",
       "      <td>126.379527</td>\n",
       "      <td>123.853039</td>\n",
       "      <td>125.186130</td>\n",
       "      <td>2.589548e+07</td>\n",
       "    </tr>\n",
       "    <tr>\n",
       "      <th>GOOGL</th>\n",
       "      <td>821.253774</td>\n",
       "      <td>828.183012</td>\n",
       "      <td>813.627782</td>\n",
       "      <td>821.061237</td>\n",
       "      <td>1.944077e+06</td>\n",
       "    </tr>\n",
       "    <tr>\n",
       "      <th>NFLX</th>\n",
       "      <td>154.607048</td>\n",
       "      <td>156.963415</td>\n",
       "      <td>152.022141</td>\n",
       "      <td>154.565741</td>\n",
       "      <td>1.299899e+07</td>\n",
       "    </tr>\n",
       "    <tr>\n",
       "      <th>SPY</th>\n",
       "      <td>218.005803</td>\n",
       "      <td>218.951313</td>\n",
       "      <td>216.942924</td>\n",
       "      <td>218.007960</td>\n",
       "      <td>1.000152e+08</td>\n",
       "    </tr>\n",
       "  </tbody>\n",
       "</table>\n",
       "</div>"
      ],
      "text/plain": [
       "             open        high         low       close        volume\n",
       "firm                                                               \n",
       "AAPL   130.123419  131.244452  128.976067  130.133062  4.016340e+07\n",
       "AMZN   861.936559  870.222509  851.956490  861.398497  4.207946e+06\n",
       "FB     125.142968  126.379527  123.853039  125.186130  2.589548e+07\n",
       "GOOGL  821.253774  828.183012  813.627782  821.061237  1.944077e+06\n",
       "NFLX   154.607048  156.963415  152.022141  154.565741  1.299899e+07\n",
       "SPY    218.005803  218.951313  216.942924  218.007960  1.000152e+08"
      ]
     },
     "execution_count": 1,
     "metadata": {},
     "output_type": "execute_result"
    }
   ],
   "source": [
    "#Import stok data from IEX\n",
    "import pandas as pd \n",
    "import pandas_datareader\n",
    "import datetime\n",
    "import matplotlib.pyplot as plt\n",
    "\n",
    "start = datetime.datetime(2014,1,1)\n",
    "end   = datetime.datetime(2019,1,1)\n",
    "\n",
    "firms = [] \n",
    "for i,stock_name in enumerate(['FB','AAPL', 'GOOGL', 'NFLX', 'AMZN', 'SPY']): \n",
    "    firm_stock = pandas_datareader.iex.daily.IEXDailyReader(stock_name, start, end).read()\n",
    "    firm_stock['firm'] = stock_name\n",
    "    firms.append(firm_stock)\n",
    "\n",
    "stocks = pd.concat(firms)\n",
    "\n",
    "# Convert index from type 'O' to 'datetime' \n",
    "stocks.index = pd.to_datetime(stocks.index)\n",
    "\n",
    "# Mean Closing Price Calculation \n",
    "stocks.groupby('firm').mean()"
   ]
  },
  {
   "cell_type": "markdown",
   "metadata": {},
   "source": [
    "##Empirical Analysis \n",
    "To do so, we have been using trade data from The Investors Exchange containing open, high, low, close and volume for the period April 1st, 2014 to January 1st, 2019. Table 1(under data description) presents the mean prices for FAANG + S&P-500 in USD."
   ]
  },
  {
   "cell_type": "markdown",
   "metadata": {},
   "source": [
    "Figure 1 shows the closing price evolution for Facebook, Apple, Amazon, Netflix, Google and S&P-500 from April 1st, 2014 to January 1st, 2019. The general tendency is that the closing prices i.e. the stock values are increasing over the period."
   ]
  },
  {
   "cell_type": "code",
   "execution_count": 2,
   "metadata": {},
   "outputs": [
    {
     "data": {
      "image/png": "[encoded data removed]",
      "text/plain": [
       "<Figure size 432x288 with 1 Axes>"
      ]
     },
     "metadata": {
      "needs_background": "light"
     },
     "output_type": "display_data"
    }
   ],
   "source": [
    "#Plot Raw Data - absolute growth for each stock\n",
    "fig,ax = plt.subplots()\n",
    "stocks.groupby('firm')['close'].plot(legend=True);\n",
    "ax.set_ylabel('Price USD');\n",
    "ax.set_title('Figure 1: Closing price 2014-2019');"
   ]
  },
  {
   "cell_type": "markdown",
   "metadata": {},
   "source": [
    "In the first period from 2014-2017 stocks closing prices are growing steadily. From 2017 to mid-2018 the growth increases for all the stocks before the FAANG stocks suddenly decreases by more than 20 pct. The reason for the decrease in mid-2018 is as shown as S&P-500 in the graph generally decreases due to fear that the nine-year bull market was losing steam. However, the tech stocks that had been seen as a safe bet decreased even more than the general market due to disappointing market forecasts, which lead to fear of a new tech bubble.<br>\n",
    "The main positive outlier is Amazon which experiences much higher growth rates than the other stocks but also a steeper decline in absolute values.<br>\n",
    "The main negative outlier is Facebook who suffered especially hard with the stock falling more than 38 pct. From its all-time high in July, this was due to scandals regarding data breaches and general immoral business tactics coupled together with slowing growths."
   ]
  },
  {
   "cell_type": "code",
   "execution_count": 3,
   "metadata": {},
   "outputs": [
    {
     "data": {
      "image/png": "[encoded data removed]",
      "text/plain": [
       "<Figure size 432x288 with 1 Axes>"
      ]
     },
     "metadata": {
      "needs_background": "light"
     },
     "output_type": "display_data"
    }
   ],
   "source": [
    "#Plot Demeaned Data\n",
    "stocks3 = stocks.copy()\n",
    "\n",
    "# Split - Apply - Combine (de-meaning)\n",
    "stocks3['close_demeaned'] = stocks3.groupby('firm')['close'].transform(lambda x: x - x.mean())\n",
    "\n",
    "# Plot\n",
    "stocks3.groupby('firm')['close_demeaned'].plot(legend=True);\n",
    "plt.title('Figure 2: Demeaned stock prices');"
   ]
  },
  {
   "cell_type": "markdown",
   "metadata": {},
   "source": [
    "Figure 2 shows the demeaned stock prices. The demeaned stock prices are found by subtracting the sample mean from each observation for each stock and S&P-500, which makes it possible to look at the stock deviations from the mean, which in figure 2 is illustrated as zero. It is noted that both Amazon and Google are quite volatile around their own means whereas the remaining stocks are more centered around their own means - volatility is a measure of dispersion around the mean or average return of a security. The standard deviation for each stock and S&P-500 has been calculated in Table 3, which shows standard deviation of the closing price in the period 2014 to 2019."
   ]
  },
  {
   "cell_type": "code",
   "execution_count": 6,
   "metadata": {},
   "outputs": [
    {
     "name": "stdout",
     "output_type": "stream",
     "text": [
      "firm\n",
      "AAPL      36.960497\n",
      "AMZN     475.704568\n",
      "FB        39.303316\n",
      "GOOGL    212.389259\n",
      "NFLX      96.542952\n",
      "SPY       34.215521\n",
      "Name: close, dtype: float64\n"
     ]
    }
   ],
   "source": [
    "#Calculating the standard deviation for each stock\n",
    "print(stocks3.groupby('firm')['close'].std())"
   ]
  },
  {
   "cell_type": "markdown",
   "metadata": {},
   "source": [
    "The results are that Apple€™s standard deviation is 38, Amazons is 478, Facebooks is 40, Googles is 214, Netflixs is 97 and S&P-500s is 35. The results from Amazon and Google are in line with our results from Figure 2 which showed that they were the two most volatile stocks. The results also show that S&P-500 has the lowest standard deviation which supports our financial theory that a lower expected return should yield a lower standard deviation, which also can be seen in figure 4 where Netflix and Amazon have had a growth rate above 400 pr. Cent and nearly 350 pr. Cent respectively. While S&P-500 have had the lowest growth rate for the same time period just below 50 pct."
   ]
  },
  {
   "cell_type": "markdown",
   "metadata": {},
   "source": [
    "Comparing the table with standard deviation and figure 4, note especially Google: this stock has a relative high standard deviation but comes with the lowest growth rate for the FAANG-stocks, implying high risk â€“ low return. Google has only grown less than double of the safest stock S&P-500, whereas Netflix has the highest growth rate but with much lower standard deviation making this stock much preferable compared to Google. Lastly we note that Apple and S&P-500 have the lowest and somehow the same standard deviation but Apple has grown almost the double of S&P-500. This imply that you can get almost the double return for the same risk as S&P-500 stock-picking Apple."
   ]
  },
  {
   "cell_type": "code",
   "execution_count": 7,
   "metadata": {},
   "outputs": [
    {
     "name": "stdout",
     "output_type": "stream",
     "text": [
      "[              open      high       low     close    volume firm\n",
      "date                                                           \n",
      "2014-05-19   57.89   59.5600   57.5700   59.2100  43033925   FB\n",
      "2014-05-20   59.50   60.1900   58.1800   58.5600  53931469   FB\n",
      "2014-05-21   58.56   60.5000   58.2500   60.4900  58991505   FB\n",
      "2014-05-22   60.94   61.4800   60.4000   60.5200  54200116   FB\n",
      "2014-05-23   60.41   61.4500   60.1500   61.3510  38293993   FB\n",
      "2014-05-27   61.62   63.5100   61.5700   63.4800  55681663   FB\n",
      "2014-05-28   63.39   64.1400   62.6200   63.5100  47795088   FB\n",
      "2014-05-29   63.84   64.3000   63.5100   63.8300  42699670   FB\n",
      "2014-05-30   63.95   64.1700   62.5600   63.3000  45283577   FB\n",
      "2014-06-02   63.23   63.5900   62.0500   63.0800  35995537   FB\n",
      "2014-06-03   62.62   63.4200   62.3200   62.8700  32216707   FB\n",
      "2014-06-04   62.45   63.5900   62.0700   63.3400  36513991   FB\n",
      "2014-06-05   63.66   64.3600   62.8200   63.1860  47352368   FB\n",
      "2014-06-06   63.37   63.4800   62.1500   62.5000  42442096   FB\n",
      "2014-06-09   62.40   63.3400   61.7900   62.8800  37617413   FB\n",
      "2014-06-10   63.53   65.8200   63.5000   65.7700  69338140   FB\n",
      "2014-06-11   65.32   65.8000   64.9000   65.7810  44241926   FB\n",
      "2014-06-12   65.85   66.4700   64.0600   64.2901  55729828   FB\n",
      "2014-06-13   64.70   64.9700   63.8300   64.5000  29418910   FB\n",
      "2014-06-16   64.16   64.8800   63.7500   64.1900  31045811   FB\n",
      "2014-06-17   64.10   64.8800   63.9300   64.4000  27714816   FB\n",
      "2014-06-18   64.49   65.7500   64.0500   65.6000  35570154   FB\n",
      "2014-06-19   65.46   65.5756   64.2100   64.3415  34245182   FB\n",
      "2014-06-20   64.46   64.8100   63.3500   64.5000  46466073   FB\n",
      "2014-06-23   64.32   65.6600   64.2200   65.3700  34560121   FB\n",
      "2014-06-24   65.36   67.1700   65.2700   65.7200  57334867   FB\n",
      "2014-06-25   65.58   67.4800   65.5700   67.4400  44308249   FB\n",
      "2014-06-26   68.00   68.0000   66.9000   67.1300  47713944   FB\n",
      "2014-06-27   67.31   67.7000   66.8400   67.6000  46460627   FB\n",
      "2014-06-30   67.46   67.9200   67.1300   67.2900  27201749   FB\n",
      "...            ...       ...       ...       ...       ...  ...\n",
      "2018-11-15  142.33  144.8400  140.8300  143.8500  30320280   FB\n",
      "2018-11-16  141.07  141.7700  137.7700  139.5300  37250560   FB\n",
      "2018-11-19  137.61  137.7500  131.2100  131.5500  44362729   FB\n",
      "2018-11-20  127.03  134.1592  126.8500  132.4300  41939475   FB\n",
      "2018-11-21  134.40  137.1900  134.1300  134.8200  25469735   FB\n",
      "2018-11-23  133.65  134.5000  131.2551  131.7300  11886128   FB\n",
      "2018-11-26  133.00  137.0000  132.7800  136.3800  24263640   FB\n",
      "2018-11-27  135.75  136.6126  133.7100  135.0000  20750318   FB\n",
      "2018-11-28  136.28  136.7899  131.8500  136.7600  29847505   FB\n",
      "2018-11-29  135.92  139.9900  135.6600  138.6800  24238713   FB\n",
      "2018-11-30  138.26  140.9660  137.3600  140.6100  25732577   FB\n",
      "2018-12-03  143.00  143.6799  140.7600  141.0900  24819226   FB\n",
      "2018-12-04  140.73  143.3900  137.1600  137.9300  30307400   FB\n",
      "2018-12-06  133.82  139.7000  133.6700  139.6300  28218145   FB\n",
      "2018-12-07  139.25  140.8700  136.6566  137.4200  21195460   FB\n",
      "2018-12-10  139.60  143.0500  139.0100  141.8500  26422173   FB\n",
      "2018-12-11  143.88  143.8800  141.1000  142.0800  20300349   FB\n",
      "2018-12-12  143.08  147.1900  142.5100  144.5000  23696936   FB\n",
      "2018-12-13  145.57  145.8500  143.1900  145.0100  18148610   FB\n",
      "2018-12-14  143.34  146.0100  142.5100  144.0600  21785820   FB\n",
      "2018-12-17  143.08  144.9200  138.4200  140.1900  24333959   FB\n",
      "2018-12-18  141.08  145.9300  139.8301  143.6600  24709084   FB\n",
      "2018-12-19  141.21  144.9100  132.5000  133.2400  57404894   FB\n",
      "2018-12-20  130.70  135.5700  130.0000  133.4000  40297944   FB\n",
      "2018-12-21  133.39  134.9000  123.4200  124.9500  56901491   FB\n",
      "2018-12-24  123.10  129.7400  123.0200  124.0600  22066002   FB\n",
      "2018-12-26  126.00  134.2400  125.8900  134.1800  39723370   FB\n",
      "2018-12-27  132.44  134.9900  129.6700  134.5200  31202509   FB\n",
      "2018-12-28  135.34  135.9200  132.2000  133.2000  22627569   FB\n",
      "2018-12-31  134.45  134.6400  129.9500  131.0900  24625308   FB\n",
      "\n",
      "[1164 rows x 6 columns],                 open      high       low     close     volume  firm\n",
      "date                                                               \n",
      "2014-05-19   78.2777   79.5189   78.2096   79.1601   79439024  AAPL\n",
      "2014-05-20   79.1497   79.3971   78.6547   79.1758   58708986  AAPL\n",
      "2014-05-21   79.0606   79.4364   78.8289   79.3853   49249914  AAPL\n",
      "2014-05-22   79.4233   79.8488   79.0960   79.5110   50218945  AAPL\n",
      "2014-05-23   79.5084   80.4877   79.4063   80.4092   58052491  AAPL\n",
      "2014-05-27   80.6384   81.9451   80.6056   81.9149   87216605  AAPL\n",
      "2014-05-28   81.9660   82.4649   81.6727   81.7028   78921885  AAPL\n",
      "2014-05-29   82.2056   83.3866   82.1951   83.1915   94118633  AAPL\n",
      "2014-05-30   83.5319   84.3424   82.3431   82.8799  141005137  AAPL\n",
      "2014-06-02   83.0056   83.1195   81.5051   82.3104   92337903  AAPL\n",
      "2014-06-03   82.2855   83.6315   82.2580   83.4743   73231620  AAPL\n",
      "2014-06-04   83.4612   84.8295   83.2871   84.4275   83870521  AAPL\n",
      "2014-06-05   84.6082   85.0233   84.1382   84.7588   75951141  AAPL\n",
      "2014-06-06   85.0927   85.2707   84.3817   84.5257   87620911  AAPL\n",
      "2014-06-09   84.9618   86.0433   84.0911   85.8783   75414804  AAPL\n",
      "2014-06-10   86.8223   87.1156   85.7591   86.3824   62777042  AAPL\n",
      "2014-06-11   86.2724   86.8498   85.6675   86.0249   45681114  AAPL\n",
      "2014-06-12   86.1899   86.2632   84.2285   84.5860   54748791  AAPL\n",
      "2014-06-13   84.5035   84.7235   83.2937   83.6603   54525280  AAPL\n",
      "2014-06-16   83.8711   85.0076   83.8161   84.5035   35561270  AAPL\n",
      "2014-06-17   84.6043   84.9618   84.1369   84.3935   29726347  AAPL\n",
      "2014-06-18   84.5676   84.5860   83.7244   84.4852   33514108  AAPL\n",
      "2014-06-19   84.5860   84.5951   83.7143   84.1919   35527686  AAPL\n",
      "2014-06-20   84.1827   84.8243   83.3120   83.3212  100898066  AAPL\n",
      "2014-06-23   83.6969   83.9719   83.0371   83.2479   43694391  AAPL\n",
      "2014-06-24   83.1745   84.0819   82.6613   82.7438   39036087  AAPL\n",
      "2014-06-25   82.6796   83.1287   82.1664   82.8171   36868541  AAPL\n",
      "2014-06-26   82.8263   83.4495   82.3038   83.3120   32629359  AAPL\n",
      "2014-06-27   83.2387   84.3202   83.1929   84.3019   64028803  AAPL\n",
      "2014-06-30   84.4118   85.9012   84.4027   85.1726   49589028  AAPL\n",
      "...              ...       ...       ...       ...        ...   ...\n",
      "2018-11-15  186.8658  190.4168  185.3879  189.8614   46478801  AAPL\n",
      "2018-11-16  188.9587  193.3921  187.9272  191.9642   36928253  AAPL\n",
      "2018-11-19  188.4628  189.1571  183.4933  184.3563   41920872  AAPL\n",
      "2018-11-20  176.9269  180.0018  174.0900  175.5481   67825247  AAPL\n",
      "2018-11-21  178.2759  178.8115  175.1216  175.3497   31124210  AAPL\n",
      "2018-11-23  173.5246  175.1662  170.7076  170.8961   23623972  AAPL\n",
      "2018-11-26  172.8303  173.5345  168.8825  173.2072   44998520  AAPL\n",
      "2018-11-27  170.1224  173.3560  169.4975  172.8303   41387377  AAPL\n",
      "2018-11-28  175.3001  179.8233  173.5147  179.4761   46062539  AAPL\n",
      "2018-11-29  181.1822  181.3210  176.2623  178.0973   41769992  AAPL\n",
      "2018-11-30  178.8313  178.8710  175.5977  177.1352   39531549  AAPL\n",
      "2018-12-03  182.9676  183.4437  179.7439  183.3247   40798002  AAPL\n",
      "2018-12-04  179.4860  180.9143  174.8439  175.2605   41344282  AAPL\n",
      "2018-12-06  170.3704  173.3659  169.0412  173.3064   43098410  AAPL\n",
      "2018-12-07  172.0864  173.0783  166.9384  167.1268   42281631  AAPL\n",
      "2018-12-10  163.6650  168.7139  162.0086  168.2278   62025994  AAPL\n",
      "2018-12-11  170.2712  170.4001  165.6489  167.2657   47281665  AAPL\n",
      "2018-12-12  169.0214  170.5291  167.6525  167.7319   35627674  AAPL\n",
      "2018-12-13  169.1106  171.1738  168.1782  169.5669   31897827  AAPL\n",
      "2018-12-14  167.6327  167.7120  163.9428  164.1412   40703710  AAPL\n",
      "2018-12-17  164.1114  166.9879  161.4134  162.6136   44287922  AAPL\n",
      "2018-12-18  164.0420  166.1746  163.0600  164.7264   33841518  AAPL\n",
      "2018-12-19  164.6570  166.0952  157.8029  159.5883   49047297  AAPL\n",
      "2018-12-20  159.1023  160.7984  154.0435  155.5611   64772960  AAPL\n",
      "2018-12-21  155.5909  156.8804  148.4194  149.5105   95744384  AAPL\n",
      "2018-12-24  146.9514  150.3239  145.4040  145.6421   37169232  AAPL\n",
      "2018-12-26  147.1002  155.9579  145.5329  155.8984   58582544  AAPL\n",
      "2018-12-27  154.5792  155.5016  148.8558  154.8867   53117065  AAPL\n",
      "2018-12-28  156.2257  157.2375  153.2996  154.9660   42291424  AAPL\n",
      "2018-12-31  157.2474  158.0707  155.2140  156.4638   35003466  AAPL\n",
      "\n",
      "[1164 rows x 6 columns],                open       high        low     close   volume   firm\n",
      "date                                                               \n",
      "2014-05-19   528.88   539.3500   525.6600   538.830  1977885  GOOGL\n",
      "2014-05-20   540.00   546.3500   536.5700   540.390  2425292  GOOGL\n",
      "2014-05-21   542.90   549.7500   542.1100   549.700  1564854  GOOGL\n",
      "2014-05-22   552.20   557.9600   551.0000   555.450  2149757  GOOGL\n",
      "2014-05-23   558.13   565.0000   554.1700   563.800  2672674  GOOGL\n",
      "2014-05-27   567.78   574.8700   564.1500   574.870  2191828  GOOGL\n",
      "2014-05-28   574.57   577.6600   569.9520   570.450  1581576  GOOGL\n",
      "2014-05-29   573.39   573.4800   568.4525   570.560  1411296  GOOGL\n",
      "2014-05-30   571.64   572.5800   565.7900   571.650  1871737  GOOGL\n",
      "2014-06-02   569.75   570.4100   556.7000   564.340  1663640  GOOGL\n",
      "2014-06-03   560.90   562.4000   552.5275   554.510  2031647  GOOGL\n",
      "2014-06-04   551.52   558.5800   548.5600   553.760  1729192  GOOGL\n",
      "2014-06-05   557.11   565.0000   555.0500   564.930  1796370  GOOGL\n",
      "2014-06-06   568.16   568.7999   559.5800   566.030  1740934  GOOGL\n",
      "2014-06-09   566.75   572.0000   565.2200   570.730  1529959  GOOGL\n",
      "2014-06-10   568.78   572.0000   566.1300   568.300  1485115  GOOGL\n",
      "2014-06-11   565.92   568.9700   563.6800   567.500  1129173  GOOGL\n",
      "2014-06-12   567.00   567.0000   557.1500   559.500  1549487  GOOGL\n",
      "2014-06-13   560.08   560.6500   553.7200   560.350  1353343  GOOGL\n",
      "2014-06-16   557.25   557.9900   550.0000   552.300  1971842  GOOGL\n",
      "2014-06-17   552.36   553.7400   547.4700   550.615  1481669  GOOGL\n",
      "2014-06-18   552.80   561.4000   551.5800   560.660  2060681  GOOGL\n",
      "2014-06-19   561.15   565.0000   556.6679   564.990  2630539  GOOGL\n",
      "2014-06-20   566.45   566.7700   559.3700   566.520  3162147  GOOGL\n",
      "2014-06-23   564.35   574.4400   563.5000   574.290  1724098  GOOGL\n",
      "2014-06-24   574.22   582.2500   569.1600   572.540  2844325  GOOGL\n",
      "2014-06-25   573.55   587.3000   573.2600   585.930  2114743  GOOGL\n",
      "2014-06-26   589.30   589.6000   579.6000   584.770  2012360  GOOGL\n",
      "2014-06-27   585.45   587.8800   582.6200   585.690  2022118  GOOGL\n",
      "2014-06-30   586.76   587.7100   583.2900   584.670  1479411  GOOGL\n",
      "...             ...        ...        ...       ...      ...    ...\n",
      "2018-11-15  1051.46  1078.8700  1041.2900  1071.050  2079154  GOOGL\n",
      "2018-11-16  1065.23  1072.4400  1054.9000  1068.270  1768308  GOOGL\n",
      "2018-11-19  1063.39  1068.0000  1022.8700  1027.420  2284191  GOOGL\n",
      "2018-11-20  1007.29  1037.3500  1002.2100  1030.450  2722934  GOOGL\n",
      "2018-11-21  1045.31  1054.7000  1039.4500  1043.430  1485172  GOOGL\n",
      "2018-11-23  1033.50  1043.0000  1028.5200  1030.100   708859  GOOGL\n",
      "2018-11-26  1044.00  1057.0000  1039.7700  1055.940  1577941  GOOGL\n",
      "2018-11-27  1051.34  1066.7600  1045.5000  1052.280  1652433  GOOGL\n",
      "2018-11-28  1057.46  1092.8600  1042.9500  1091.790  2302121  GOOGL\n",
      "2018-11-29  1083.53  1100.1500  1082.0000  1094.580  1550523  GOOGL\n",
      "2018-11-30  1095.63  1109.6500  1083.1800  1109.650  2983340  GOOGL\n",
      "2018-12-03  1132.16  1135.0000  1111.7300  1116.360  2876449  GOOGL\n",
      "2018-12-04  1112.99  1114.2400  1060.7800  1062.470  2281485  GOOGL\n",
      "2018-12-06  1045.00  1079.4200  1042.4800  1078.080  2371825  GOOGL\n",
      "2018-12-07  1072.23  1085.0300  1039.3700  1046.580  2134111  GOOGL\n",
      "2018-12-10  1042.94  1059.6000  1033.0000  1053.180  1682646  GOOGL\n",
      "2018-12-11  1066.94  1070.4000  1050.1000  1061.650  1692576  GOOGL\n",
      "2018-12-12  1077.08  1091.7300  1071.9700  1073.730  1447973  GOOGL\n",
      "2018-12-13  1075.67  1088.4200  1064.9900  1073.540  1249403  GOOGL\n",
      "2018-12-14  1060.02  1071.7200  1049.3700  1051.710  1817949  GOOGL\n",
      "2018-12-17  1047.01  1062.3800  1016.6300  1025.650  2496551  GOOGL\n",
      "2018-12-18  1034.00  1059.6900  1030.4800  1043.410  2182019  GOOGL\n",
      "2018-12-19  1047.29  1075.7100  1019.4300  1035.460  2913237  GOOGL\n",
      "2018-12-20  1026.00  1047.4400  1007.8600  1023.580  2683670  GOOGL\n",
      "2018-12-21  1032.04  1037.6700   981.1900   991.250  5232490  GOOGL\n",
      "2018-12-24   984.32  1012.1200   977.6599   984.670  1817955  GOOGL\n",
      "2018-12-26   997.99  1048.4500   992.6450  1047.850  2315862  GOOGL\n",
      "2018-12-27  1026.20  1053.3400  1007.0000  1052.900  2299806  GOOGL\n",
      "2018-12-28  1059.50  1064.2300  1042.0000  1046.680  1718352  GOOGL\n",
      "2018-12-31  1057.83  1062.9900  1033.0400  1044.960  1655504  GOOGL\n",
      "\n",
      "[1164 rows x 6 columns],                 open      high       low     close    volume  firm\n",
      "date                                                              \n",
      "2014-05-19   49.5714   52.4602   49.5074   52.0714  25423706  NFLX\n",
      "2014-05-20   52.1442   53.2428   51.7714   53.0957  28843437  NFLX\n",
      "2014-05-21   53.5885   55.8128   53.3357   55.7999  39967319  NFLX\n",
      "2014-05-22   55.8399   56.7857   55.3571   55.9714  33228594  NFLX\n",
      "2014-05-23   55.9485   57.4957   55.6658   57.4785  22140601  NFLX\n",
      "2014-05-27   57.4285   57.4599   56.1642   56.9728  26752866  NFLX\n",
      "2014-05-28   56.7428   57.8857   56.2142   57.3199  19880084  NFLX\n",
      "2014-05-29   57.6285   59.4271   57.0785   59.3142  22862644  NFLX\n",
      "2014-05-30   59.3114   60.2485   58.8014   59.6899  29254967  NFLX\n",
      "2014-06-02   59.9257   60.4157   58.9285   60.2942  20501467  NFLX\n",
      "2014-06-03   59.9985   60.7999   59.5785   59.6528  17140074  NFLX\n",
      "2014-06-04   59.5371   60.6428   59.0428   60.4585  17444735  NFLX\n",
      "2014-06-05   60.5357   61.3428   59.7957   61.1928  18946123  NFLX\n",
      "2014-06-06   61.4299   62.1271   61.1942   61.4471  15734915  NFLX\n",
      "2014-06-09   61.3571   61.5214   60.0128   60.4414  16710953  NFLX\n",
      "2014-06-10   60.7885   62.2914   60.7171   61.1842  22940848  NFLX\n",
      "2014-06-11   60.7471   61.7999   60.7142   61.4285  13752816  NFLX\n",
      "2014-06-12   61.2957   61.4639   60.0714   60.3499  15839082  NFLX\n",
      "2014-06-13   60.4285   61.1285   59.6014   61.1014  15789697  NFLX\n",
      "2014-06-16   60.9328   61.6014   60.4885   61.4657  12550419  NFLX\n",
      "2014-06-17   62.5771   64.0128   62.5385   63.3785  28999670  NFLX\n",
      "2014-06-18   63.3814   64.4028   62.8928   64.0971  18796344  NFLX\n",
      "2014-06-19   64.2042   64.2128   62.5799   63.0557  17341198  NFLX\n",
      "2014-06-20   63.0285   63.2685   62.1399   62.8828  13247787  NFLX\n",
      "2014-06-23   62.7657   63.1228   62.2214   62.7885  10691751  NFLX\n",
      "2014-06-24   62.5785   64.2771   62.2142   62.3371  20399071  NFLX\n",
      "2014-06-25   62.1428   63.5371   61.9042   63.4585  15763384  NFLX\n",
      "2014-06-26   62.9699   63.1628   62.3928   62.8014  14249025  NFLX\n",
      "2014-06-27   62.6171   63.3128   62.4857   63.1542  15589511  NFLX\n",
      "2014-06-30   63.2657   63.8382   62.8128   62.9428  10614002  NFLX\n",
      "...              ...       ...       ...       ...       ...   ...\n",
      "2018-11-15  285.5100  292.5000  282.1600  290.0600   9967098  NFLX\n",
      "2018-11-16  287.1400  291.7200  281.0000  286.2100   9099485  NFLX\n",
      "2018-11-19  283.7900  285.0900  269.1500  270.6000  12993797  NFLX\n",
      "2018-11-20  254.6300  276.3400  250.0000  266.9800  16693809  NFLX\n",
      "2018-11-21  274.4200  275.3400  261.5100  262.1300  11023037  NFLX\n",
      "2018-11-23  260.1100  265.5000  256.8400  258.8200   5245123  NFLX\n",
      "2018-11-26  260.5500  266.2500  253.8000  261.4300  12498560  NFLX\n",
      "2018-11-27  259.2400  269.0800  256.1400  266.6300  11149501  NFLX\n",
      "2018-11-28  271.9800  284.0000  263.3400  282.6500  14801333  NFLX\n",
      "2018-11-29  282.3200  290.4900  275.5000  288.7500  15431538  NFLX\n",
      "2018-11-30  288.0000  290.8100  283.0610  286.1300  11860117  NFLX\n",
      "2018-12-03  293.1900  298.7200  284.5800  290.3000  14117370  NFLX\n",
      "2018-12-04  288.1300  295.7400  274.7200  275.3300  12800586  NFLX\n",
      "2018-12-06  268.3300  283.2200  267.1400  282.8800  13074324  NFLX\n",
      "2018-12-07  282.4800  284.2090  263.3800  265.1400  12466711  NFLX\n",
      "2018-12-10  264.1900  271.1800  260.6094  269.7000   9605553  NFLX\n",
      "2018-12-11  274.0800  274.5000  262.7600  265.3200   9843199  NFLX\n",
      "2018-12-12  267.6600  281.7695  266.4800  274.8800  11456716  NFLX\n",
      "2018-12-13  277.6400  279.3200  271.8500  276.0200   8379292  NFLX\n",
      "2018-12-14  271.8100  277.6665  265.0000  266.8400   9915319  NFLX\n",
      "2018-12-17  266.5100  272.9800  261.0750  262.8000   9634734  NFLX\n",
      "2018-12-18  263.3000  275.7500  263.2900  270.9400  10350079  NFLX\n",
      "2018-12-19  269.9600  280.8700  263.7700  266.7700  13788448  NFLX\n",
      "2018-12-20  264.6400  269.9000  251.8800  260.5800  16792928  NFLX\n",
      "2018-12-21  263.8300  264.5000  241.2900  246.3900  21397595  NFLX\n",
      "2018-12-24  242.0000  250.6500  233.6800  233.8800   9547616  NFLX\n",
      "2018-12-26  233.9200  254.5000  231.2300  253.6700  14402735  NFLX\n",
      "2018-12-27  250.1100  255.5900  240.1000  255.5650  12235217  NFLX\n",
      "2018-12-28  257.9400  261.9144  249.8000  256.0800  10987286  NFLX\n",
      "2018-12-31  260.1600  270.1001  260.0000  267.6600  13508920  NFLX\n",
      "\n",
      "[1164 rows x 6 columns],                 open       high        low     close    volume  firm\n",
      "date                                                                \n",
      "2014-05-19   295.760   299.0000   293.8100   296.755   2286313  AMZN\n",
      "2014-05-20   297.100   304.4600   296.7500   301.190   4096308  AMZN\n",
      "2014-05-21   302.210   305.9600   301.5201   305.010   3409200  AMZN\n",
      "2014-05-22   305.050   308.5400   303.0100   304.910   2576888  AMZN\n",
      "2014-05-23   305.460   312.3500   304.9000   312.240   3055997  AMZN\n",
      "2014-05-27   314.410   314.6296   307.3800   310.820   4864163  AMZN\n",
      "2014-05-28   309.500   313.8200   307.4200   310.160   2726803  AMZN\n",
      "2014-05-29   310.420   314.8700   310.2000   313.780   2365679  AMZN\n",
      "2014-05-30   314.430   314.6500   307.5700   312.550   4260624  AMZN\n",
      "2014-06-02   312.590   312.6000   307.0000   308.840   2205909  AMZN\n",
      "2014-06-03   305.750   307.9200   305.0700   307.190   2379273  AMZN\n",
      "2014-06-04   306.850   309.5000   303.8400   306.780   2111176  AMZN\n",
      "2014-06-05   308.100   327.9400   306.9000   323.570   7803760  AMZN\n",
      "2014-06-06   325.000   330.8800   324.9300   329.670   5246723  AMZN\n",
      "2014-06-09   331.570   333.0000   325.6500   327.500   3212755  AMZN\n",
      "2014-06-10   327.650   335.5000   327.5000   332.410   3668904  AMZN\n",
      "2014-06-11   336.000   340.7199   333.8772   335.200   4439178  AMZN\n",
      "2014-06-12   335.550   335.5500   324.6600   325.910   4276316  AMZN\n",
      "2014-06-13   327.050   329.2980   323.5262   326.270   2766909  AMZN\n",
      "2014-06-16   324.860   328.6945   323.5200   327.620   2449843  AMZN\n",
      "2014-06-17   327.540   331.3400   325.2300   325.620   2924058  AMZN\n",
      "2014-06-18   328.000   335.7500   325.0000   334.380   6409334  AMZN\n",
      "2014-06-19   335.255   338.9000   325.9800   327.000   5327002  AMZN\n",
      "2014-06-20   327.760   328.2200   320.4200   324.200   6056210  AMZN\n",
      "2014-06-23   323.330   327.5500   321.4100   327.240   2609628  AMZN\n",
      "2014-06-24   327.540   329.7300   322.7380   324.160   2627978  AMZN\n",
      "2014-06-25   324.330   328.1500   321.7400   327.440   2328006  AMZN\n",
      "2014-06-26   328.490   328.6500   322.1300   325.690   2699908  AMZN\n",
      "2014-06-27   325.880   326.5200   323.2700   324.570   2419626  AMZN\n",
      "2014-06-30   324.980   326.9800   322.2400   324.780   2672165  AMZN\n",
      "...              ...        ...        ...       ...       ...   ...\n",
      "2018-11-15  1581.010  1624.8200  1546.5100  1619.440   8427337  AMZN\n",
      "2018-11-16  1587.500  1614.4800  1573.1200  1593.410   6066080  AMZN\n",
      "2018-11-19  1577.010  1581.1900  1503.3600  1512.290   7789981  AMZN\n",
      "2018-11-20  1437.500  1534.7500  1420.0000  1495.460  10878823  AMZN\n",
      "2018-11-21  1542.990  1550.0000  1515.0000  1516.730   5716800  AMZN\n",
      "2018-11-23  1517.000  1536.2000  1501.8100  1502.060   2707642  AMZN\n",
      "2018-11-26  1539.000  1584.8100  1524.2200  1581.330   6257716  AMZN\n",
      "2018-11-27  1575.990  1597.6500  1558.0100  1581.420   5783227  AMZN\n",
      "2018-11-28  1613.920  1681.4500  1601.2100  1677.750   8458738  AMZN\n",
      "2018-11-29  1674.990  1689.9900  1652.3300  1673.570   6613243  AMZN\n",
      "2018-11-30  1679.500  1696.0000  1666.5000  1690.170   5761761  AMZN\n",
      "2018-12-03  1769.460  1778.3400  1730.0000  1772.360   6862160  AMZN\n",
      "2018-12-04  1756.000  1770.3400  1665.0000  1668.400   8694455  AMZN\n",
      "2018-12-06  1614.870  1701.0500  1609.8500  1699.190   8789394  AMZN\n",
      "2018-12-07  1705.070  1718.9300  1625.4600  1629.130   7576132  AMZN\n",
      "2018-12-10  1623.840  1657.9900  1590.8700  1641.030   7494808  AMZN\n",
      "2018-12-11  1678.000  1679.4700  1619.6000  1643.240   6244695  AMZN\n",
      "2018-12-12  1669.000  1704.9900  1660.2700  1663.540   6597968  AMZN\n",
      "2018-12-13  1680.000  1692.1200  1641.5000  1658.380   5271162  AMZN\n",
      "2018-12-14  1638.000  1642.5700  1585.0000  1591.910   6367163  AMZN\n",
      "2018-12-17  1566.000  1576.1300  1505.0100  1520.910   8829762  AMZN\n",
      "2018-12-18  1540.000  1567.5500  1523.0100  1551.480   6522975  AMZN\n",
      "2018-12-19  1543.050  1584.5300  1483.1800  1495.080   8792189  AMZN\n",
      "2018-12-20  1484.000  1509.5000  1432.6900  1460.830   9991833  AMZN\n",
      "2018-12-21  1464.990  1480.0000  1363.9600  1377.450  13640320  AMZN\n",
      "2018-12-24  1346.000  1396.0300  1307.0000  1343.960   7219996  AMZN\n",
      "2018-12-26  1368.890  1473.1600  1363.0100  1470.900  10411801  AMZN\n",
      "2018-12-27  1454.200  1469.0000  1390.3100  1461.640   9722034  AMZN\n",
      "2018-12-28  1473.350  1513.4700  1449.0000  1478.020   8828950  AMZN\n",
      "2018-12-31  1510.800  1520.7600  1487.0000  1501.970   6954507  AMZN\n",
      "\n",
      "[1164 rows x 6 columns],                 open      high       low     close     volume firm\n",
      "date                                                              \n",
      "2014-05-19  169.9896  171.0764  169.8356  170.9405   63839398  SPY\n",
      "2014-05-20  170.8545  170.8771  169.4280  169.8628  111644478  SPY\n",
      "2014-05-21  170.3609  171.3753  170.3247  171.2938   89093285  SPY\n",
      "2014-05-22  171.3391  172.0636  171.0492  171.7104   61549345  SPY\n",
      "2014-05-23  171.8553  172.5165  171.7066  172.3987   60156088  SPY\n",
      "2014-05-27  173.0327  173.5127  172.9421  173.4584   72010355  SPY\n",
      "2014-05-28  173.4584  173.7301  173.0418  173.3316   66722865  SPY\n",
      "2014-05-29  173.7301  174.2554  173.2863  174.2282   64376573  SPY\n",
      "2014-05-30  174.0652  174.6177  173.9203  174.5090   76315640  SPY\n",
      "2014-06-02  174.7535  174.7897  173.8659  174.7037   64655648  SPY\n",
      "2014-06-03  174.2554  174.7082  174.1195  174.6177   65047193  SPY\n",
      "2014-06-04  174.3188  175.0705  174.1331  174.9709   55529372  SPY\n",
      "2014-06-05  175.1701  176.2932  174.5271  176.1121   92102592  SPY\n",
      "2014-06-06  176.4924  176.9996  176.4109  176.9498   78696219  SPY\n",
      "2014-06-09  176.9272  177.5612  176.7642  177.1355   65118828  SPY\n",
      "2014-06-10  176.9091  177.1898  176.5377  177.1536   57129440  SPY\n",
      "2014-06-11  176.5196  176.7189  176.1392  176.5377   68772479  SPY\n",
      "2014-06-12  176.2932  176.4290  174.8984  175.2879  106350200  SPY\n",
      "2014-06-13  175.6139  175.9943  175.0705  175.8222   82017278  SPY\n",
      "2014-06-16  175.6049  176.3385  175.3966  175.9671   87424332  SPY\n",
      "2014-06-17  175.7226  176.5830  175.5324  176.4562   84833876  SPY\n",
      "2014-06-18  176.4562  177.8510  176.0668  177.7468  105266767  SPY\n",
      "2014-06-19  177.9053  178.0593  177.3347  177.0993   85928920  SPY\n",
      "2014-06-20  178.3976  178.4648  178.0973  178.3157  100587108  SPY\n",
      "2014-06-23  178.3430  178.4158  177.9334  178.2611   70611486  SPY\n",
      "2014-06-24  177.9426  178.8253  176.9870  177.1872   96236917  SPY\n",
      "2014-06-25  176.7777  178.1710  176.7777  177.9881   82781912  SPY\n",
      "2014-06-26  178.0154  178.0336  176.6685  177.8606   84311822  SPY\n",
      "2014-06-27  177.4420  178.2611  177.3556  178.2065   71453616  SPY\n",
      "2014-06-30  178.0973  178.5204  177.9426  178.1155   70504228  SPY\n",
      "...              ...       ...       ...       ...        ...  ...\n",
      "2018-11-15  266.0472  270.7588  264.2954  270.2441  135101437  SPY\n",
      "2018-11-16  269.0266  271.9565  268.4525  270.9468  126668040  SPY\n",
      "2018-11-19  270.2738  270.6004  265.3444  266.3639  103061706  SPY\n",
      "2018-11-20  262.6619  264.2853  260.4744  261.4346  136021311  SPY\n",
      "2018-11-21  263.1569  264.4337  262.3155  262.3254   75563743  SPY\n",
      "2018-11-23  260.5041  262.1308  260.3952  260.5734   42807878  SPY\n",
      "2018-11-26  263.0777  265.0276  262.6421  264.7802   79981362  SPY\n",
      "2018-11-27  263.6320  265.6710  262.9589  265.6710   75502441  SPY\n",
      "2018-11-28  266.8588  271.7882  265.5990  271.7882  127629633  SPY\n",
      "2018-11-29  270.9270  272.7483  269.6601  271.1943   82346420  SPY\n",
      "2018-11-30  271.0260  273.4709  270.6697  272.8473   98204190  SPY\n",
      "2018-12-03  277.4302  277.5490  274.6835  276.4602  103017719  SPY\n",
      "2018-12-04  275.5397  276.0148  267.1558  267.5022  177986013  SPY\n",
      "2018-12-06  263.2163  267.2251  259.7716  267.0964  204185411  SPY\n",
      "2018-12-07  266.7203  268.4624  259.9597  260.8901  161018923  SPY\n",
      "2018-12-10  260.6922  262.4653  255.9905  261.3851  151445885  SPY\n",
      "2018-12-11  264.9386  265.1464  259.8112  261.4445  121504431  SPY\n",
      "2018-12-12  264.7505  266.2649  262.6718  262.7609   97976706  SPY\n",
      "2018-12-13  263.8101  264.7703  261.4346  262.6718   96662717  SPY\n",
      "2018-12-14  260.2863  261.3455  257.2080  257.8217  116961071  SPY\n",
      "2018-12-17  256.7625  257.9998  250.9473  252.7636  165492257  SPY\n",
      "2018-12-18  254.5849  255.3273  250.7048  252.4865  134515094  SPY\n",
      "2018-12-19  252.5756  256.7625  246.8147  248.7053  214992763  SPY\n",
      "2018-12-20  247.3195  249.0616  242.1625  244.6569  252053377  SPY\n",
      "2018-12-21  245.6578  248.6148  238.9274  239.6443  255345633  SPY\n",
      "2018-12-24  237.9916  239.7792  233.2425  233.3122  147311588  SPY\n",
      "2018-12-26  234.9350  245.1003  232.7347  245.1003  218485360  SPY\n",
      "2018-12-27  241.5061  247.2010  237.9119  246.9820  186267342  SPY\n",
      "2018-12-28  248.4853  250.2974  245.3691  246.6634  153100189  SPY\n",
      "2018-12-31  248.4654  249.0927  246.3846  248.8239  144299370  SPY\n",
      "\n",
      "[1164 rows x 6 columns]]\n"
     ]
    }
   ],
   "source": [
    "#Find first and last closing price for all stocks to obtain Figure 4\n",
    "print(firms)"
   ]
  },
  {
   "cell_type": "code",
   "execution_count": 9,
   "metadata": {},
   "outputs": [
    {
     "name": "stdout",
     "output_type": "stream",
     "text": [
      "109.34206323858193\n"
     ]
    }
   ],
   "source": [
    "#Use first and last observation of each stock to calculate growth rate over the period. \n",
    "\n",
    "# Growth rate 2014-2019 Facebook\n",
    "x_first = 62.62\n",
    "x_last = 131.09\n",
    "growth_rate_FB = (x_last - x_first)/x_first * 100\n",
    "print(growth_rate_FB)"
   ]
  },
  {
   "cell_type": "code",
   "execution_count": 10,
   "metadata": {},
   "outputs": [
    {
     "name": "stdout",
     "output_type": "stream",
     "text": [
      "120.79751574099716\n"
     ]
    }
   ],
   "source": [
    "# Growth rate 2014-2019 Apple\n",
    "x_first = 71.1359\n",
    "x_last = 157.0663\n",
    "growth_rate_AAPL = (x_last - x_first)/x_first * 100\n",
    "print(growth_rate_AAPL)"
   ]
  },
  {
   "cell_type": "code",
   "execution_count": 11,
   "metadata": {},
   "outputs": [
    {
     "name": "stdout",
     "output_type": "stream",
     "text": [
      "83.96781478714199\n"
     ]
    }
   ],
   "source": [
    "# Growth rate 2014-2019 Google\n",
    "x_first = 568.0124\n",
    "x_last = 1044.9600\n",
    "growth_rate_GOOGL = (x_last - x_first)/x_first * 100\n",
    "print(growth_rate_GOOGL)"
   ]
  },
  {
   "cell_type": "code",
   "execution_count": 12,
   "metadata": {},
   "outputs": [
    {
     "name": "stdout",
     "output_type": "stream",
     "text": [
      "337.9048951864486\n"
     ]
    }
   ],
   "source": [
    "# Growth rate 2014-2019 Amazon\n",
    "x_first = 342.990\n",
    "x_last = 1501.970\n",
    "growth_rate_AMZN = (x_last - x_first)/x_first * 100\n",
    "print(growth_rate_AMZN)"
   ]
  },
  {
   "cell_type": "code",
   "execution_count": 13,
   "metadata": {},
   "outputs": [
    {
     "name": "stdout",
     "output_type": "stream",
     "text": [
      "413.7575937886887\n"
     ]
    }
   ],
   "source": [
    "# Growth rate 2014-2019 Netflix\n",
    "x_first = 52.0985\n",
    "x_last = 267.66\n",
    "growth_rate_NFLX = (x_last - x_first)/x_first * 100\n",
    "print(growth_rate_NFLX)"
   ]
  },
  {
   "cell_type": "code",
   "execution_count": 14,
   "metadata": {},
   "outputs": [
    {
     "name": "stdout",
     "output_type": "stream",
     "text": [
      "45.941366297586214\n"
     ]
    }
   ],
   "source": [
    "# Growth rate 2014-2019 SP500\n",
    "x_first = 170.4958\n",
    "x_last = 248.8239\n",
    "growth_rate_SPY = (x_last - x_first)/x_first * 100\n",
    "print(growth_rate_SPY)"
   ]
  },
  {
   "cell_type": "code",
   "execution_count": 15,
   "metadata": {},
   "outputs": [
    {
     "data": {
      "image/png": "[encoded data removed]",
      "text/plain": [
       "<Figure size 432x288 with 1 Axes>"
      ]
     },
     "metadata": {
      "needs_background": "light"
     },
     "output_type": "display_data"
    }
   ],
   "source": [
    "#Plot the growth rates against each other \n",
    "\n",
    "import numpy as np\n",
    "import matplotlib.pyplot as plt\n",
    " \n",
    "# data to plot\n",
    "n_groups = 6\n",
    "growth_rate = (growth_rate_SPY, growth_rate_NFLX, growth_rate_AAPL, growth_rate_GOOGL, growth_rate_FB, growth_rate_AMZN)\n",
    " \n",
    "# create plot\n",
    "fig, ax = plt.subplots()\n",
    "index = np.arange(n_groups)\n",
    "bar_width = 0.35\n",
    "opacity = 0.8\n",
    " \n",
    "rects1 = plt.bar(index, growth_rate, bar_width,\n",
    "alpha=opacity,\n",
    "color='m',\n",
    "label='Growth Rate')\n",
    " \n",
    "plt.xlabel('Firm')\n",
    "plt.ylabel('Percentage')\n",
    "plt.title('Figure 4: Growth Rate 2014 - 2019')\n",
    "plt.xticks(index + bar_width, ('SPY', 'NFLX', 'AAPL', 'GOOGL', 'FB', 'AMZN'))\n",
    "plt.legend()\n",
    " \n",
    "plt.tight_layout()\n",
    "plt.show()"
   ]
  },
  {
   "cell_type": "markdown",
   "metadata": {},
   "source": [
    "Further looking at figure 3, which show the first-difference we clearly see that Google and Amazon shows biggest differences, which support our conclusion that these stocks are more unsafe implying a higher risk if stock-picking comparing to choosing the other FAANG-stocks or the S&P-500 index. Especially for the last observations the risk becomes higher."
   ]
  },
  {
   "cell_type": "code",
   "execution_count": 16,
   "metadata": {},
   "outputs": [
    {
     "data": {
      "image/png": "[encoded data removed]",
      "text/plain": [
       "<Figure size 432x288 with 1 Axes>"
      ]
     },
     "metadata": {
      "needs_background": "light"
     },
     "output_type": "display_data"
    }
   ],
   "source": [
    "#Using df.groupby('firm').var.diff(1) to calculate the first differences of closing prices. \n",
    "stocks['diff_close'] = stocks.groupby('firm').close.diff(1)\n",
    "stocks.groupby('firm')['diff_close'].plot(legend=True);\n",
    "plt.title('Figure 3: First-diff of the close value of each stock');"
   ]
  },
  {
   "cell_type": "markdown",
   "metadata": {},
   "source": [
    "##Conclusion \n",
    "We find that there exists a trade-off between volatility and return in line with what standard financial theory predicts. This implies that your portfolio could have beaten the S&P-500 index over the five-year period 2014 to 2019 by stock-picking single FAANG assets. However, the higher returns come with higher volatility, which is for the person to choose what degree of risk averse he/she is."
   ]
  },
  {
   "cell_type": "code",
   "execution_count": null,
   "metadata": {},
   "outputs": [],
   "source": []
  }
 ],
 "metadata": {
  "kernelspec": {
   "display_name": "Python 3",
   "language": "python",
   "name": "python3"
  },
  "language_info": {
   "codemirror_mode": {
    "name": "ipython",
    "version": 3
   },
   "file_extension": ".py",
   "mimetype": "text/x-python",
   "name": "python",
   "nbconvert_exporter": "python",
   "pygments_lexer": "ipython3",
   "version": "3.7.1"
  }
 },
 "nbformat": 4,
 "nbformat_minor": 2
}
